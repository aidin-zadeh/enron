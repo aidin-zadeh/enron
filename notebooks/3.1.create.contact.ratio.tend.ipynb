{
 "cells": [
  {
   "cell_type": "code",
   "execution_count": 16,
   "metadata": {},
   "outputs": [],
   "source": [
    "import os, inspect\n",
    "import pandas as pd\n",
    "import numpy as np\n",
    "import datetime as dt\n",
    "import plotly\n",
    "import plotly.plotly as py\n",
    "import plotly.graph_objs as go\n",
    "import plotly.io as pio\n",
    "\n",
    "plotly.tools.set_credentials_file(username='aidinraad', api_key='3gvKoI4MsBo6O3xPchfv')"
   ]
  },
  {
   "cell_type": "code",
   "execution_count": 2,
   "metadata": {},
   "outputs": [],
   "source": [
    "topn = 5\n",
    "CURR_DIR =  os.path.dirname(inspect.getabsfile(inspect.currentframe()))\n",
    "ROOT_DIR =  os.path.dirname(CURR_DIR)"
   ]
  },
  {
   "cell_type": "markdown",
   "metadata": {},
   "source": [
    "### Load senders/recipients data"
   ]
  },
  {
   "cell_type": "code",
   "execution_count": 3,
   "metadata": {},
   "outputs": [
    {
     "name": "stdout",
     "output_type": "stream",
     "text": [
      "(435816, 2) (205661, 2)\n"
     ]
    }
   ],
   "source": [
    "path = os.path.join(ROOT_DIR,\"enron\",\"data\", \"ext\")\n",
    "ffname = os.path.join(path, \"enron-recipients.csv\")\n",
    "df_recipients = pd.read_csv(ffname, parse_dates=[\"datetime\"])\n",
    "df_recipients.rename(columns={\"recipient\": \"person\"}, inplace=True)\n",
    "ffname = os.path.join(path, \"enron-senders.csv\")\n",
    "df_senders = pd.read_csv(ffname, parse_dates=[\"datetime\"])\n",
    "df_senders.rename(columns={\"sender\": \"person\"}, inplace=True)\n",
    "print(df_recipients.shape, df_senders.shape)\n",
    "# get yearMonth attribute as \"date\"\n",
    "df_senders[\"date\"] = df_senders.datetime.dt.to_period(\"M\")\n",
    "df_recipients[\"date\"] = df_recipients.datetime.dt.to_period(\"M\")"
   ]
  },
  {
   "cell_type": "code",
   "execution_count": 4,
   "metadata": {},
   "outputs": [
    {
     "data": {
      "text/html": [
       "<div>\n",
       "<style scoped>\n",
       "    .dataframe tbody tr th:only-of-type {\n",
       "        vertical-align: middle;\n",
       "    }\n",
       "\n",
       "    .dataframe tbody tr th {\n",
       "        vertical-align: top;\n",
       "    }\n",
       "\n",
       "    .dataframe thead th {\n",
       "        text-align: right;\n",
       "    }\n",
       "</style>\n",
       "<table border=\"1\" class=\"dataframe\">\n",
       "  <thead>\n",
       "    <tr style=\"text-align: right;\">\n",
       "      <th></th>\n",
       "      <th>datetime</th>\n",
       "      <th>person</th>\n",
       "      <th>date</th>\n",
       "    </tr>\n",
       "  </thead>\n",
       "  <tbody>\n",
       "    <tr>\n",
       "      <th>0</th>\n",
       "      <td>1998-05-27 17:31:00</td>\n",
       "      <td>christopher behney</td>\n",
       "      <td>1998-05</td>\n",
       "    </tr>\n",
       "    <tr>\n",
       "      <th>1</th>\n",
       "      <td>1998-10-30 17:43:00</td>\n",
       "      <td>mark legal taylor</td>\n",
       "      <td>1998-10</td>\n",
       "    </tr>\n",
       "    <tr>\n",
       "      <th>2</th>\n",
       "      <td>1998-10-30 17:56:00</td>\n",
       "      <td>mark legal taylor</td>\n",
       "      <td>1998-10</td>\n",
       "    </tr>\n",
       "    <tr>\n",
       "      <th>3</th>\n",
       "      <td>1998-10-30 18:02:00</td>\n",
       "      <td>mark legal taylor</td>\n",
       "      <td>1998-10</td>\n",
       "    </tr>\n",
       "    <tr>\n",
       "      <th>4</th>\n",
       "      <td>1998-10-30 19:06:00</td>\n",
       "      <td>mark legal taylor</td>\n",
       "      <td>1998-10</td>\n",
       "    </tr>\n",
       "  </tbody>\n",
       "</table>\n",
       "</div>"
      ],
      "text/plain": [
       "             datetime              person    date\n",
       "0 1998-05-27 17:31:00  christopher behney 1998-05\n",
       "1 1998-10-30 17:43:00   mark legal taylor 1998-10\n",
       "2 1998-10-30 17:56:00   mark legal taylor 1998-10\n",
       "3 1998-10-30 18:02:00   mark legal taylor 1998-10\n",
       "4 1998-10-30 19:06:00   mark legal taylor 1998-10"
      ]
     },
     "execution_count": 4,
     "metadata": {},
     "output_type": "execute_result"
    }
   ],
   "source": [
    "df_senders.head()"
   ]
  },
  {
   "cell_type": "code",
   "execution_count": 5,
   "metadata": {},
   "outputs": [
    {
     "data": {
      "text/html": [
       "<div>\n",
       "<style scoped>\n",
       "    .dataframe tbody tr th:only-of-type {\n",
       "        vertical-align: middle;\n",
       "    }\n",
       "\n",
       "    .dataframe tbody tr th {\n",
       "        vertical-align: top;\n",
       "    }\n",
       "\n",
       "    .dataframe thead th {\n",
       "        text-align: right;\n",
       "    }\n",
       "</style>\n",
       "<table border=\"1\" class=\"dataframe\">\n",
       "  <thead>\n",
       "    <tr style=\"text-align: right;\">\n",
       "      <th></th>\n",
       "      <th>datetime</th>\n",
       "      <th>person</th>\n",
       "      <th>date</th>\n",
       "    </tr>\n",
       "  </thead>\n",
       "  <tbody>\n",
       "    <tr>\n",
       "      <th>0</th>\n",
       "      <td>1998-05-27 17:31:00</td>\n",
       "      <td>toni p schulenburg</td>\n",
       "      <td>1998-05</td>\n",
       "    </tr>\n",
       "    <tr>\n",
       "      <th>1</th>\n",
       "      <td>1998-05-27 17:31:00</td>\n",
       "      <td>mary hain</td>\n",
       "      <td>1998-05</td>\n",
       "    </tr>\n",
       "    <tr>\n",
       "      <th>2</th>\n",
       "      <td>1998-10-30 17:43:00</td>\n",
       "      <td>marc.r.cutler@bankamerica.com</td>\n",
       "      <td>1998-10</td>\n",
       "    </tr>\n",
       "    <tr>\n",
       "      <th>3</th>\n",
       "      <td>1998-10-30 17:56:00</td>\n",
       "      <td>marc.r.cutler@bankamerica.com</td>\n",
       "      <td>1998-10</td>\n",
       "    </tr>\n",
       "    <tr>\n",
       "      <th>4</th>\n",
       "      <td>1998-10-30 18:02:00</td>\n",
       "      <td>shari stack</td>\n",
       "      <td>1998-10</td>\n",
       "    </tr>\n",
       "  </tbody>\n",
       "</table>\n",
       "</div>"
      ],
      "text/plain": [
       "             datetime                         person    date\n",
       "0 1998-05-27 17:31:00             toni p schulenburg 1998-05\n",
       "1 1998-05-27 17:31:00                      mary hain 1998-05\n",
       "2 1998-10-30 17:43:00  marc.r.cutler@bankamerica.com 1998-10\n",
       "3 1998-10-30 17:56:00  marc.r.cutler@bankamerica.com 1998-10\n",
       "4 1998-10-30 18:02:00                    shari stack 1998-10"
      ]
     },
     "execution_count": 5,
     "metadata": {},
     "output_type": "execute_result"
    }
   ],
   "source": [
    "df_recipients.head()"
   ]
  },
  {
   "cell_type": "markdown",
   "metadata": {},
   "source": [
    "### Get sender counts data frame"
   ]
  },
  {
   "cell_type": "code",
   "execution_count": 6,
   "metadata": {},
   "outputs": [
    {
     "data": {
      "text/html": [
       "<div>\n",
       "<style scoped>\n",
       "    .dataframe tbody tr th:only-of-type {\n",
       "        vertical-align: middle;\n",
       "    }\n",
       "\n",
       "    .dataframe tbody tr th {\n",
       "        vertical-align: top;\n",
       "    }\n",
       "\n",
       "    .dataframe thead th {\n",
       "        text-align: right;\n",
       "    }\n",
       "</style>\n",
       "<table border=\"1\" class=\"dataframe\">\n",
       "  <thead>\n",
       "    <tr style=\"text-align: right;\">\n",
       "      <th></th>\n",
       "      <th></th>\n",
       "      <th>sent</th>\n",
       "    </tr>\n",
       "    <tr>\n",
       "      <th>person</th>\n",
       "      <th>date</th>\n",
       "      <th></th>\n",
       "    </tr>\n",
       "  </thead>\n",
       "  <tbody>\n",
       "    <tr>\n",
       "      <th>*misc exchange customer activities\\tcustomeractivities@gulfsouthpl.com@enron</th>\n",
       "      <th>2001-11</th>\n",
       "      <td>1</td>\n",
       "    </tr>\n",
       "    <tr>\n",
       "      <th rowspan=\"2\" valign=\"top\">.</th>\n",
       "      <th>2001-11</th>\n",
       "      <td>2</td>\n",
       "    </tr>\n",
       "    <tr>\n",
       "      <th>2001-12</th>\n",
       "      <td>1</td>\n",
       "    </tr>\n",
       "    <tr>\n",
       "      <th>a devries</th>\n",
       "      <th>2000-10</th>\n",
       "      <td>1</td>\n",
       "    </tr>\n",
       "    <tr>\n",
       "      <th>aa wayne caa</th>\n",
       "      <th>2002-01</th>\n",
       "      <td>1</td>\n",
       "    </tr>\n",
       "  </tbody>\n",
       "</table>\n",
       "</div>"
      ],
      "text/plain": [
       "                                                            sent\n",
       "person                                             date         \n",
       "*misc exchange customer activities\\tcustomeract... 2001-11     1\n",
       ".                                                  2001-11     2\n",
       "                                                   2001-12     1\n",
       "a devries                                          2000-10     1\n",
       "aa wayne caa                                       2002-01     1"
      ]
     },
     "execution_count": 6,
     "metadata": {},
     "output_type": "execute_result"
    }
   ],
   "source": [
    "# group by person and  year-month dates\n",
    "gpby = [df_senders.person, df_senders.date]\n",
    "df_sender_counts = df_senders.groupby(gpby)[\"person\"].count()\n",
    "df_sender_counts = df_sender_counts.to_frame(name=\"sent\")\n",
    "df_sender_counts.head()"
   ]
  },
  {
   "cell_type": "markdown",
   "metadata": {},
   "source": [
    "### Get recipient counts data frame"
   ]
  },
  {
   "cell_type": "code",
   "execution_count": 7,
   "metadata": {},
   "outputs": [
    {
     "data": {
      "text/html": [
       "<div>\n",
       "<style scoped>\n",
       "    .dataframe tbody tr th:only-of-type {\n",
       "        vertical-align: middle;\n",
       "    }\n",
       "\n",
       "    .dataframe tbody tr th {\n",
       "        vertical-align: top;\n",
       "    }\n",
       "\n",
       "    .dataframe thead th {\n",
       "        text-align: right;\n",
       "    }\n",
       "</style>\n",
       "<table border=\"1\" class=\"dataframe\">\n",
       "  <thead>\n",
       "    <tr style=\"text-align: right;\">\n",
       "      <th></th>\n",
       "      <th></th>\n",
       "      <th>received</th>\n",
       "    </tr>\n",
       "    <tr>\n",
       "      <th>person</th>\n",
       "      <th>date</th>\n",
       "      <th></th>\n",
       "    </tr>\n",
       "  </thead>\n",
       "  <tbody>\n",
       "    <tr>\n",
       "      <th>- *joan.veselack@enron.com</th>\n",
       "      <th>2000-02</th>\n",
       "      <td>1</td>\n",
       "    </tr>\n",
       "    <tr>\n",
       "      <th>- *murex@manado.wasantara.net.id</th>\n",
       "      <th>2000-06</th>\n",
       "      <td>1</td>\n",
       "    </tr>\n",
       "    <tr>\n",
       "      <th>- *porter, jeffrey</th>\n",
       "      <th>2000-02</th>\n",
       "      <td>2</td>\n",
       "    </tr>\n",
       "    <tr>\n",
       "      <th>- *stiles, marianne</th>\n",
       "      <th>2000-02</th>\n",
       "      <td>1</td>\n",
       "    </tr>\n",
       "    <tr>\n",
       "      <th>'andrea.v.reed@enron.com' &lt;andrea.v.reed, 'anne.c.koehler@enron.com'&lt;anne.c.koehler,&gt;</th>\n",
       "      <th>2000-08</th>\n",
       "      <td>1</td>\n",
       "    </tr>\n",
       "  </tbody>\n",
       "</table>\n",
       "</div>"
      ],
      "text/plain": [
       "                                                            received\n",
       "person                                             date             \n",
       " - *joan.veselack@enron.com                        2000-02         1\n",
       " - *murex@manado.wasantara.net.id                  2000-06         1\n",
       " - *porter, jeffrey                                2000-02         2\n",
       " - *stiles, marianne                               2000-02         1\n",
       "'andrea.v.reed@enron.com' <andrea.v.reed, 'anne... 2000-08         1"
      ]
     },
     "execution_count": 7,
     "metadata": {},
     "output_type": "execute_result"
    }
   ],
   "source": [
    "# group by person and  year-month dates\n",
    "gpby = [df_recipients.person, df_recipients.date]\n",
    "df_recipient_counts = df_recipients.groupby(gpby)[\"person\"].count()\n",
    "df_recipient_counts = df_recipient_counts.to_frame(name=\"received\")\n",
    "df_recipient_counts.head()"
   ]
  },
  {
   "cell_type": "markdown",
   "metadata": {},
   "source": [
    "### Get counts data frame"
   ]
  },
  {
   "cell_type": "code",
   "execution_count": 8,
   "metadata": {},
   "outputs": [
    {
     "data": {
      "text/html": [
       "<div>\n",
       "<style scoped>\n",
       "    .dataframe tbody tr th:only-of-type {\n",
       "        vertical-align: middle;\n",
       "    }\n",
       "\n",
       "    .dataframe tbody tr th {\n",
       "        vertical-align: top;\n",
       "    }\n",
       "\n",
       "    .dataframe thead th {\n",
       "        text-align: right;\n",
       "    }\n",
       "</style>\n",
       "<table border=\"1\" class=\"dataframe\">\n",
       "  <thead>\n",
       "    <tr style=\"text-align: right;\">\n",
       "      <th></th>\n",
       "      <th></th>\n",
       "      <th>sent</th>\n",
       "      <th>received</th>\n",
       "    </tr>\n",
       "    <tr>\n",
       "      <th>person</th>\n",
       "      <th>date</th>\n",
       "      <th></th>\n",
       "      <th></th>\n",
       "    </tr>\n",
       "  </thead>\n",
       "  <tbody>\n",
       "    <tr>\n",
       "      <th>pete davis</th>\n",
       "      <th>2002-01</th>\n",
       "      <td>1508</td>\n",
       "      <td>696</td>\n",
       "    </tr>\n",
       "    <tr>\n",
       "      <th>notes</th>\n",
       "      <th>2001-10</th>\n",
       "      <td>955</td>\n",
       "      <td>241</td>\n",
       "    </tr>\n",
       "    <tr>\n",
       "      <th>blank</th>\n",
       "      <th>2002-11</th>\n",
       "      <td>850</td>\n",
       "      <td>0</td>\n",
       "    </tr>\n",
       "    <tr>\n",
       "      <th>outlook</th>\n",
       "      <th>2001-04</th>\n",
       "      <td>754</td>\n",
       "      <td>6</td>\n",
       "    </tr>\n",
       "    <tr>\n",
       "      <th>notes</th>\n",
       "      <th>2001-11</th>\n",
       "      <td>721</td>\n",
       "      <td>120</td>\n",
       "    </tr>\n",
       "    <tr>\n",
       "      <th>schedule</th>\n",
       "      <th>2002-01</th>\n",
       "      <td>696</td>\n",
       "      <td>0</td>\n",
       "    </tr>\n",
       "    <tr>\n",
       "      <th rowspan=\"2\" valign=\"top\">pete davis</th>\n",
       "      <th>2001-04</th>\n",
       "      <td>680</td>\n",
       "      <td>2</td>\n",
       "    </tr>\n",
       "    <tr>\n",
       "      <th>2001-10</th>\n",
       "      <td>603</td>\n",
       "      <td>0</td>\n",
       "    </tr>\n",
       "    <tr>\n",
       "      <th rowspan=\"2\" valign=\"top\">jeff dasovich</th>\n",
       "      <th>2001-10</th>\n",
       "      <td>586</td>\n",
       "      <td>193</td>\n",
       "    </tr>\n",
       "    <tr>\n",
       "      <th>2001-04</th>\n",
       "      <td>518</td>\n",
       "      <td>11</td>\n",
       "    </tr>\n",
       "  </tbody>\n",
       "</table>\n",
       "</div>"
      ],
      "text/plain": [
       "                       sent  received\n",
       "person        date                   \n",
       "pete davis    2002-01  1508       696\n",
       "notes         2001-10   955       241\n",
       "blank         2002-11   850         0\n",
       "outlook       2001-04   754         6\n",
       "notes         2001-11   721       120\n",
       "schedule      2002-01   696         0\n",
       "pete davis    2001-04   680         2\n",
       "              2001-10   603         0\n",
       "jeff dasovich 2001-10   586       193\n",
       "              2001-04   518        11"
      ]
     },
     "execution_count": 8,
     "metadata": {},
     "output_type": "execute_result"
    }
   ],
   "source": [
    "df_counts = df_sender_counts.join(df_recipient_counts, how=\"outer\") \\\n",
    "    .fillna(0) \\\n",
    "    .applymap(lambda x: int(x)) \\\n",
    "    .sort_values(by=\"sent\", ascending=False)\n",
    "df_counts.head(10)"
   ]
  },
  {
   "cell_type": "markdown",
   "metadata": {},
   "source": [
    "### Create person-sent data frame"
   ]
  },
  {
   "cell_type": "code",
   "execution_count": 9,
   "metadata": {},
   "outputs": [
    {
     "data": {
      "text/html": [
       "<div>\n",
       "<style scoped>\n",
       "    .dataframe tbody tr th:only-of-type {\n",
       "        vertical-align: middle;\n",
       "    }\n",
       "\n",
       "    .dataframe tbody tr th {\n",
       "        vertical-align: top;\n",
       "    }\n",
       "\n",
       "    .dataframe thead th {\n",
       "        text-align: right;\n",
       "    }\n",
       "</style>\n",
       "<table border=\"1\" class=\"dataframe\">\n",
       "  <thead>\n",
       "    <tr style=\"text-align: right;\">\n",
       "      <th></th>\n",
       "      <th>index</th>\n",
       "      <th>person</th>\n",
       "      <th>sent</th>\n",
       "    </tr>\n",
       "  </thead>\n",
       "  <tbody>\n",
       "    <tr>\n",
       "      <th>0</th>\n",
       "      <td>15824</td>\n",
       "      <td>jeff dasovich</td>\n",
       "      <td>5232</td>\n",
       "    </tr>\n",
       "    <tr>\n",
       "      <th>1</th>\n",
       "      <td>30170</td>\n",
       "      <td>sara shackleton</td>\n",
       "      <td>4591</td>\n",
       "    </tr>\n",
       "    <tr>\n",
       "      <th>2</th>\n",
       "      <td>26694</td>\n",
       "      <td>pete davis</td>\n",
       "      <td>3898</td>\n",
       "    </tr>\n",
       "    <tr>\n",
       "      <th>3</th>\n",
       "      <td>5909</td>\n",
       "      <td>chris germany</td>\n",
       "      <td>3703</td>\n",
       "    </tr>\n",
       "    <tr>\n",
       "      <th>4</th>\n",
       "      <td>25585</td>\n",
       "      <td>notes</td>\n",
       "      <td>3314</td>\n",
       "    </tr>\n",
       "  </tbody>\n",
       "</table>\n",
       "</div>"
      ],
      "text/plain": [
       "   index           person  sent\n",
       "0  15824    jeff dasovich  5232\n",
       "1  30170  sara shackleton  4591\n",
       "2  26694       pete davis  3898\n",
       "3   5909    chris germany  3703\n",
       "4  25585            notes  3314"
      ]
     },
     "execution_count": 9,
     "metadata": {},
     "output_type": "execute_result"
    }
   ],
   "source": [
    "df_person_sent = df_counts.reset_index()\n",
    "df_person_sent = df_person_sent.groupby(df_person_sent.person)[[\"sent\"]] \\\n",
    "    .sum() \\\n",
    "    .reset_index() \\\n",
    "    .sort_values(by=\"sent\", ascending=False) \\\n",
    "    .reset_index()\n",
    "# save persn-sent\n",
    "ffname = os.path.join(ROOT_DIR,\"enron\",\"data\", \"ext\", \n",
    "                      \"enron-person-sent-summary.csv\")\n",
    "df_person_sent.to_csv(ffname, index=False)\n",
    "df_person_sent.head()\n"
   ]
  },
  {
   "cell_type": "markdown",
   "metadata": {},
   "source": [
    "### Compute relative contact"
   ]
  },
  {
   "cell_type": "code",
   "execution_count": 10,
   "metadata": {},
   "outputs": [
    {
     "data": {
      "text/html": [
       "<div>\n",
       "<style scoped>\n",
       "    .dataframe tbody tr th:only-of-type {\n",
       "        vertical-align: middle;\n",
       "    }\n",
       "\n",
       "    .dataframe tbody tr th {\n",
       "        vertical-align: top;\n",
       "    }\n",
       "\n",
       "    .dataframe thead th {\n",
       "        text-align: right;\n",
       "    }\n",
       "</style>\n",
       "<table border=\"1\" class=\"dataframe\">\n",
       "  <thead>\n",
       "    <tr style=\"text-align: right;\">\n",
       "      <th></th>\n",
       "      <th></th>\n",
       "      <th>sent</th>\n",
       "      <th>received</th>\n",
       "      <th>relcontact</th>\n",
       "    </tr>\n",
       "    <tr>\n",
       "      <th>person</th>\n",
       "      <th>date</th>\n",
       "      <th></th>\n",
       "      <th></th>\n",
       "      <th></th>\n",
       "    </tr>\n",
       "  </thead>\n",
       "  <tbody>\n",
       "    <tr>\n",
       "      <th>pete davis</th>\n",
       "      <th>2002-01</th>\n",
       "      <td>1508</td>\n",
       "      <td>696</td>\n",
       "      <td>0.538462</td>\n",
       "    </tr>\n",
       "    <tr>\n",
       "      <th>notes</th>\n",
       "      <th>2001-10</th>\n",
       "      <td>955</td>\n",
       "      <td>241</td>\n",
       "      <td>0.747644</td>\n",
       "    </tr>\n",
       "    <tr>\n",
       "      <th>blank</th>\n",
       "      <th>2002-11</th>\n",
       "      <td>850</td>\n",
       "      <td>0</td>\n",
       "      <td>1.000000</td>\n",
       "    </tr>\n",
       "    <tr>\n",
       "      <th>outlook</th>\n",
       "      <th>2001-04</th>\n",
       "      <td>754</td>\n",
       "      <td>6</td>\n",
       "      <td>0.992042</td>\n",
       "    </tr>\n",
       "    <tr>\n",
       "      <th>notes</th>\n",
       "      <th>2001-11</th>\n",
       "      <td>721</td>\n",
       "      <td>120</td>\n",
       "      <td>0.833564</td>\n",
       "    </tr>\n",
       "  </tbody>\n",
       "</table>\n",
       "</div>"
      ],
      "text/plain": [
       "                    sent  received  relcontact\n",
       "person     date                               \n",
       "pete davis 2002-01  1508       696    0.538462\n",
       "notes      2001-10   955       241    0.747644\n",
       "blank      2002-11   850         0    1.000000\n",
       "outlook    2001-04   754         6    0.992042\n",
       "notes      2001-11   721       120    0.833564"
      ]
     },
     "execution_count": 10,
     "metadata": {},
     "output_type": "execute_result"
    }
   ],
   "source": [
    "df_counts[\"relcontact\"] = (df_counts.received - df_counts.sent).abs() / \\\n",
    "    df_counts[[\"received\", \"sent\"]].max(axis=1)\n",
    "df_counts.head()"
   ]
  },
  {
   "cell_type": "markdown",
   "metadata": {},
   "source": [
    "### Get the most prolific senders"
   ]
  },
  {
   "cell_type": "code",
   "execution_count": 11,
   "metadata": {},
   "outputs": [],
   "source": [
    "# the most prolific senders, top-N senders\n",
    "topn_senders = df_person_sent.person[0:topn].tolist()"
   ]
  },
  {
   "cell_type": "markdown",
   "metadata": {},
   "source": [
    "### Plot trends"
   ]
  },
  {
   "cell_type": "code",
   "execution_count": 12,
   "metadata": {},
   "outputs": [],
   "source": [
    "colors = list(range(40))\n",
    "title = 'Main Source for News'\n",
    "# labels = ['Television', 'Newspaper', 'Internet', 'Radio']\n",
    "colors = [\" #ff0000\", \"#b2004c\", \"#8c0073\", \"#5900a6\", \"#0000ff\"]\n",
    "# colors = ['hsl('+str(h)+',60%'+',40%)' for h in np.linspace(0, 360, 20)]\n",
    "mode_size = [8, 8, 12, 8]\n",
    "line_size = [2, 2, 4, 2]\n",
    "id = pd.date_range(start='1998-08', end=\"2002-12\", freq='MS').to_period(\"M\")"
   ]
  },
  {
   "cell_type": "code",
   "execution_count": 13,
   "metadata": {},
   "outputs": [],
   "source": [
    "data = []\n",
    "\n",
    "for i in range(0, topn):\n",
    "    df_i = df_counts.loc[topn_senders[i], :]\n",
    "    df_i = df_i.reindex(id, fill_value=0)\n",
    "    \n",
    "    trace = go.Scatter(\n",
    "        x=list(df_i.index.astype(str).values),\n",
    "        y=df_i.relcontact,\n",
    "        name = topn_senders[i].title(),\n",
    "        line = dict(color=colors[i]),\n",
    "#         colorscale='Viridis',\n",
    "        opacity = 0.9,\n",
    "        mode=\"lines\"\n",
    "    )\n",
    "\n",
    "    data.append(trace)"
   ]
  },
  {
   "cell_type": "code",
   "execution_count": 14,
   "metadata": {},
   "outputs": [
    {
     "data": {
      "text/html": [
       "<iframe id=\"igraph\" scrolling=\"no\" style=\"border:none;\" seamless=\"seamless\" src=\"https://plot.ly/~aidinraad/6.embed\" height=\"525px\" width=\"100%\"></iframe>"
      ],
      "text/plain": [
       "<plotly.tools.PlotlyDisplay object>"
      ]
     },
     "execution_count": 14,
     "metadata": {},
     "output_type": "execute_result"
    }
   ],
   "source": [
    "layout = dict(\n",
    "    title=f\"Contact Relative Ratio by top-{topn} senders between '05.1998' and '12.2012'\",\n",
    "    yaxis = dict(title = 'Contact Relative Ratio'),\n",
    "    xaxis=dict(\n",
    "        title=\"Time\",\n",
    "        rangeselector=dict(\n",
    "            buttons=list([\n",
    "                dict(count=1,\n",
    "                     label='1m',\n",
    "                     step='month',\n",
    "                     stepmode='backward'),\n",
    "                dict(count=6,\n",
    "                     label='6m',\n",
    "                     step='month',\n",
    "                     stepmode='backward'),\n",
    "                dict(step='all')\n",
    "            ])\n",
    "        ),\n",
    "        rangeslider=dict(\n",
    "            visible = True\n",
    "        ),\n",
    "        type='date'\n",
    "    )\n",
    ")\n",
    "\n",
    "annotations = []\n",
    "                         \n",
    "layout['annotations'] = annotations\n",
    "\n",
    "fig = dict(data=data, layout=layout)\n",
    "py.iplot(fig, filename = \"Sent Email Count\")"
   ]
  },
  {
   "cell_type": "code",
   "execution_count": 20,
   "metadata": {},
   "outputs": [
    {
     "data": {
      "text/plain": [
       "'https://plot.ly/~aidinraad/6'"
      ]
     },
     "execution_count": 20,
     "metadata": {},
     "output_type": "execute_result"
    }
   ],
   "source": [
    "\n",
    "ffname = os.path.join(path, \"relative-contact-plot\")\n",
    "pio.write_image(fig, ffname + \".webp\")\n",
    "pio.write_image(fig, ffname + \".png\")\n",
    "py.plot(fig, filename=\"Sent Email Count\")"
   ]
  },
  {
   "cell_type": "code",
   "execution_count": null,
   "metadata": {},
   "outputs": [],
   "source": []
  }
 ],
 "metadata": {
  "kernelspec": {
   "display_name": "Python [conda env:enron]",
   "language": "python",
   "name": "conda-env-enron-py"
  },
  "language_info": {
   "codemirror_mode": {
    "name": "ipython",
    "version": 3
   },
   "file_extension": ".py",
   "mimetype": "text/x-python",
   "name": "python",
   "nbconvert_exporter": "python",
   "pygments_lexer": "ipython3",
   "version": "3.6.6"
  }
 },
 "nbformat": 4,
 "nbformat_minor": 2
}
