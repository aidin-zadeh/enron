{
 "cells": [
  {
   "cell_type": "code",
   "execution_count": 1,
   "metadata": {},
   "outputs": [],
   "source": [
    "import os, inspect\n",
    "import pandas as pd\n",
    "import numpy as np\n",
    "import datetime as dt"
   ]
  },
  {
   "cell_type": "code",
   "execution_count": 2,
   "metadata": {},
   "outputs": [
    {
     "name": "stdout",
     "output_type": "stream",
     "text": [
      "(435816, 2) (205661, 2)\n"
     ]
    }
   ],
   "source": [
    "CURR_DIR =  os.path.dirname(inspect.getabsfile(inspect.currentframe()))\n",
    "ROOT_DIR =  os.path.dirname(CURR_DIR)\n",
    "\n",
    "path = os.path.join(ROOT_DIR,\"enron\",\"data\", \"ext\")\n",
    "ffname = os.path.join(path, \"enron-recipients.csv\")\n",
    "df_recipients = pd.read_csv(ffname, parse_dates=[\"datetime\"])\n",
    "ffname = os.path.join(path, \"enron-senders.csv\")\n",
    "df_senders = pd.read_csv(ffname, parse_dates=[\"datetime\"])\n",
    "print(df_recipients.shape, df_senders.shape)"
   ]
  },
  {
   "cell_type": "code",
   "execution_count": 10,
   "metadata": {},
   "outputs": [
    {
     "data": {
      "text/plain": [
       "(15214, 1)"
      ]
     },
     "execution_count": 10,
     "metadata": {},
     "output_type": "execute_result"
    }
   ],
   "source": [
    "df_sender_counts = df_senders.groupby(\"sender\")[\"sender\"].count()\n",
    "df_sender_counts = df_sender_counts.to_frame(name=\"sent\")\n",
    "df_sender_counts.head()"
   ]
  },
  {
   "cell_type": "code",
   "execution_count": 9,
   "metadata": {},
   "outputs": [
    {
     "data": {
      "text/plain": [
       "(28774, 1)"
      ]
     },
     "execution_count": 9,
     "metadata": {},
     "output_type": "execute_result"
    }
   ],
   "source": [
    "df_recipient_counts = df_recipients.groupby(\"recipient\")[\"recipient\"].count()\n",
    "df_recipient_counts = df_recipient_counts.to_frame(name=\"received\")\n",
    "df_recipient_counts.head()"
   ]
  },
  {
   "cell_type": "code",
   "execution_count": 30,
   "metadata": {},
   "outputs": [
    {
     "data": {
      "text/html": [
       "<div>\n",
       "<style scoped>\n",
       "    .dataframe tbody tr th:only-of-type {\n",
       "        vertical-align: middle;\n",
       "    }\n",
       "\n",
       "    .dataframe tbody tr th {\n",
       "        vertical-align: top;\n",
       "    }\n",
       "\n",
       "    .dataframe thead th {\n",
       "        text-align: right;\n",
       "    }\n",
       "</style>\n",
       "<table border=\"1\" class=\"dataframe\">\n",
       "  <thead>\n",
       "    <tr style=\"text-align: right;\">\n",
       "      <th></th>\n",
       "      <th>sent</th>\n",
       "      <th>received</th>\n",
       "    </tr>\n",
       "  </thead>\n",
       "  <tbody>\n",
       "    <tr>\n",
       "      <th>jeff dasovich</th>\n",
       "      <td>5232</td>\n",
       "      <td>2249</td>\n",
       "    </tr>\n",
       "    <tr>\n",
       "      <th>sara shackleton</th>\n",
       "      <td>4591</td>\n",
       "      <td>5217</td>\n",
       "    </tr>\n",
       "    <tr>\n",
       "      <th>pete davis</th>\n",
       "      <td>3898</td>\n",
       "      <td>853</td>\n",
       "    </tr>\n",
       "    <tr>\n",
       "      <th>chris germany</th>\n",
       "      <td>3703</td>\n",
       "      <td>1591</td>\n",
       "    </tr>\n",
       "    <tr>\n",
       "      <th>notes</th>\n",
       "      <td>3314</td>\n",
       "      <td>1023</td>\n",
       "    </tr>\n",
       "  </tbody>\n",
       "</table>\n",
       "</div>"
      ],
      "text/plain": [
       "                 sent  received\n",
       "jeff dasovich    5232      2249\n",
       "sara shackleton  4591      5217\n",
       "pete davis       3898       853\n",
       "chris germany    3703      1591\n",
       "notes            3314      1023"
      ]
     },
     "execution_count": 30,
     "metadata": {},
     "output_type": "execute_result"
    }
   ],
   "source": [
    "df_counts = df_sender_counts.join(df_recipient_counts, how=\"outer\") \\\n",
    "    .fillna(0) \\\n",
    "    .applymap(lambda x: int(x)) \\\n",
    "    .sort_values(by=\"sent\", ascending=False)\n",
    "df_counts.head()"
   ]
  },
  {
   "cell_type": "code",
   "execution_count": null,
   "metadata": {},
   "outputs": [],
   "source": []
  },
  {
   "cell_type": "code",
   "execution_count": null,
   "metadata": {},
   "outputs": [],
   "source": [
    "# get all unique person names in sender and recipients columns\n",
    "unique_recipients = set()\n",
    "def func(x, persons):\n",
    "    persons.update(x)\n",
    "_ = df.recipients.apply(func, args=(unique_recipients,))\n",
    "sorted(unique_recipients)\n",
    "idx = [True if \"chris edmonds\" in elem else False for elem in unique_recipients]\n",
    "a = list(unique_recipients)\n",
    "list(compress(a, idx))"
   ]
  },
  {
   "cell_type": "code",
   "execution_count": null,
   "metadata": {},
   "outputs": [],
   "source": [
    "unique_senders = df.sender.unique()\n",
    "unique_senders = set(unique_senders.tolist())\n",
    "sorted(unique_senders)"
   ]
  },
  {
   "cell_type": "code",
   "execution_count": null,
   "metadata": {},
   "outputs": [],
   "source": [
    "# check if there are shared persons between senders and recipients\n",
    "len(unique_senders.intersection(unique_recipients))"
   ]
  },
  {
   "cell_type": "code",
   "execution_count": null,
   "metadata": {},
   "outputs": [],
   "source": [
    "persons = set.union(unique_recipients, unique_senders)\n",
    "sorted(persons)"
   ]
  },
  {
   "cell_type": "code",
   "execution_count": null,
   "metadata": {},
   "outputs": [],
   "source": [
    "df_ = pd.DataFrame(index=persons, data= {\"sent\": [0]*len(persons),\n",
    "                                         \"received\": [0]*len(persons)})\n",
    "df_.head(10)"
   ]
  },
  {
   "cell_type": "code",
   "execution_count": null,
   "metadata": {},
   "outputs": [],
   "source": [
    "# def func(x, df):\n",
    "# #     df_.sent[x.sender] += 1\n",
    "#     df_.received[x.recipients] += 1\n",
    "    \n",
    "# df.apply(func, axis=1, args=(df_,))\n",
    "# df_"
   ]
  },
  {
   "cell_type": "code",
   "execution_count": null,
   "metadata": {},
   "outputs": [],
   "source": [
    "df.head()"
   ]
  },
  {
   "cell_type": "code",
   "execution_count": null,
   "metadata": {},
   "outputs": [],
   "source": [
    "df_recipients.head()"
   ]
  },
  {
   "cell_type": "code",
   "execution_count": null,
   "metadata": {},
   "outputs": [],
   "source": [
    "\n"
   ]
  },
  {
   "cell_type": "code",
   "execution_count": null,
   "metadata": {},
   "outputs": [],
   "source": [
    "df.sender[df.sender.apply(lambda x: x == \".\")]"
   ]
  },
  {
   "cell_type": "code",
   "execution_count": null,
   "metadata": {},
   "outputs": [],
   "source": [
    "text = df.recipients[29]\n",
    "text"
   ]
  },
  {
   "cell_type": "code",
   "execution_count": null,
   "metadata": {
    "scrolled": true
   },
   "outputs": [],
   "source": [
    "pattern = \"\\|?(.+?)(?=\\|)\"\n",
    "match = re.findall(pattern, text)\n",
    "match"
   ]
  },
  {
   "cell_type": "code",
   "execution_count": null,
   "metadata": {},
   "outputs": [],
   "source": [
    "df.recipients = df.recipients.str.split(\"|\")"
   ]
  },
  {
   "cell_type": "code",
   "execution_count": null,
   "metadata": {},
   "outputs": [],
   "source": [
    "def func(x):\n",
    "    print(x.recipients)\n",
    "df.apply(func=func, axis=1)    \n",
    "# df.sender.apply(lambda x: print(len(x)))"
   ]
  },
  {
   "cell_type": "code",
   "execution_count": null,
   "metadata": {},
   "outputs": [],
   "source": [
    "# get unique person names/emails from both sender and recipients columns\n",
    "persons = set(df.sender.values)\n",
    "def func(x, unique_set):\n",
    "    unique_set.update(x)\n",
    "df.recipients.a\n",
    "pply(update_uniques, args=(persons,))\n",
    "persons"
   ]
  },
  {
   "cell_type": "code",
   "execution_count": null,
   "metadata": {},
   "outputs": [],
   "source": [
    "pd.pivot_table(df, index=[\"sender\"], values=\"recipients\", aggfunc=len)"
   ]
  },
  {
   "cell_type": "code",
   "execution_count": null,
   "metadata": {},
   "outputs": [],
   "source": [
    "df.sender.unique().shape"
   ]
  },
  {
   "cell_type": "code",
   "execution_count": null,
   "metadata": {},
   "outputs": [],
   "source": [
    "df.groupby(\"sender\")[\"sender\"].count()"
   ]
  },
  {
   "cell_type": "code",
   "execution_count": null,
   "metadata": {},
   "outputs": [],
   "source": [
    "[True if \"mark legal taylor\" in elem else False for urser in df.for elem in df.recipients]"
   ]
  },
  {
   "cell_type": "code",
   "execution_count": null,
   "metadata": {},
   "outputs": [],
   "source": [
    "df.recipients"
   ]
  },
  {
   "cell_type": "code",
   "execution_count": null,
   "metadata": {},
   "outputs": [],
   "source": []
  }
 ],
 "metadata": {
  "kernelspec": {
   "display_name": "Python [default]",
   "language": "python",
   "name": "python3"
  },
  "language_info": {
   "codemirror_mode": {
    "name": "ipython",
    "version": 3
   },
   "file_extension": ".py",
   "mimetype": "text/x-python",
   "name": "python",
   "nbconvert_exporter": "python",
   "pygments_lexer": "ipython3",
   "version": "3.6.5"
  }
 },
 "nbformat": 4,
 "nbformat_minor": 2
}
