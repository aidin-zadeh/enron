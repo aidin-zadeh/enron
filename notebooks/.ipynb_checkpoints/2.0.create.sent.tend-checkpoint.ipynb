{
 "cells": [
  {
   "cell_type": "code",
   "execution_count": 11,
   "metadata": {},
   "outputs": [],
   "source": [
    "import os, inspect\n",
    "import pandas as pd\n",
    "import numpy as np\n",
    "import datetime as dt\n",
    "import plotly\n",
    "import plotly.plotly as py\n",
    "import plotly.graph_objs as go\n",
    "\n",
    "plotly.tools.set_credentials_file(username='aidinraad', api_key='3gvKoI4MsBo6O3xPchfv')"
   ]
  },
  {
   "cell_type": "code",
   "execution_count": 129,
   "metadata": {},
   "outputs": [],
   "source": [
    "topn = 5\n",
    "CURR_DIR =  os.path.dirname(inspect.getabsfile(inspect.currentframe()))\n",
    "ROOT_DIR =  os.path.dirname(CURR_DIR)"
   ]
  },
  {
   "cell_type": "markdown",
   "metadata": {},
   "source": [
    "### Load sender data"
   ]
  },
  {
   "cell_type": "code",
   "execution_count": 123,
   "metadata": {},
   "outputs": [
    {
     "data": {
      "text/html": [
       "<div>\n",
       "<style scoped>\n",
       "    .dataframe tbody tr th:only-of-type {\n",
       "        vertical-align: middle;\n",
       "    }\n",
       "\n",
       "    .dataframe tbody tr th {\n",
       "        vertical-align: top;\n",
       "    }\n",
       "\n",
       "    .dataframe thead th {\n",
       "        text-align: right;\n",
       "    }\n",
       "</style>\n",
       "<table border=\"1\" class=\"dataframe\">\n",
       "  <thead>\n",
       "    <tr style=\"text-align: right;\">\n",
       "      <th></th>\n",
       "      <th>datetime</th>\n",
       "      <th>sender</th>\n",
       "    </tr>\n",
       "  </thead>\n",
       "  <tbody>\n",
       "    <tr>\n",
       "      <th>0</th>\n",
       "      <td>1998-05-27 17:31:00</td>\n",
       "      <td>christopher behney</td>\n",
       "    </tr>\n",
       "    <tr>\n",
       "      <th>1</th>\n",
       "      <td>1998-10-30 17:43:00</td>\n",
       "      <td>mark legal taylor</td>\n",
       "    </tr>\n",
       "    <tr>\n",
       "      <th>2</th>\n",
       "      <td>1998-10-30 17:56:00</td>\n",
       "      <td>mark legal taylor</td>\n",
       "    </tr>\n",
       "    <tr>\n",
       "      <th>3</th>\n",
       "      <td>1998-10-30 18:02:00</td>\n",
       "      <td>mark legal taylor</td>\n",
       "    </tr>\n",
       "    <tr>\n",
       "      <th>4</th>\n",
       "      <td>1998-10-30 19:06:00</td>\n",
       "      <td>mark legal taylor</td>\n",
       "    </tr>\n",
       "  </tbody>\n",
       "</table>\n",
       "</div>"
      ],
      "text/plain": [
       "             datetime              sender\n",
       "0 1998-05-27 17:31:00  christopher behney\n",
       "1 1998-10-30 17:43:00   mark legal taylor\n",
       "2 1998-10-30 17:56:00   mark legal taylor\n",
       "3 1998-10-30 18:02:00   mark legal taylor\n",
       "4 1998-10-30 19:06:00   mark legal taylor"
      ]
     },
     "execution_count": 123,
     "metadata": {},
     "output_type": "execute_result"
    }
   ],
   "source": [
    "path = os.path.join(ROOT_DIR,\"enron\",\"data\", \"ext\")\n",
    "ffname = os.path.join(path, \"enron-senders.csv\")\n",
    "df_senders = pd.read_csv(ffname, parse_dates=[\"datetime\"])\n",
    "df_senders.head()"
   ]
  },
  {
   "cell_type": "markdown",
   "metadata": {},
   "source": [
    "### Get sent count data frame"
   ]
  },
  {
   "cell_type": "code",
   "execution_count": 124,
   "metadata": {},
   "outputs": [
    {
     "data": {
      "text/html": [
       "<div>\n",
       "<style scoped>\n",
       "    .dataframe tbody tr th:only-of-type {\n",
       "        vertical-align: middle;\n",
       "    }\n",
       "\n",
       "    .dataframe tbody tr th {\n",
       "        vertical-align: top;\n",
       "    }\n",
       "\n",
       "    .dataframe thead th {\n",
       "        text-align: right;\n",
       "    }\n",
       "</style>\n",
       "<table border=\"1\" class=\"dataframe\">\n",
       "  <thead>\n",
       "    <tr style=\"text-align: right;\">\n",
       "      <th></th>\n",
       "      <th></th>\n",
       "      <th>sent</th>\n",
       "    </tr>\n",
       "    <tr>\n",
       "      <th>sender</th>\n",
       "      <th>date</th>\n",
       "      <th></th>\n",
       "    </tr>\n",
       "  </thead>\n",
       "  <tbody>\n",
       "    <tr>\n",
       "      <th>*misc exchange customer activities\\tcustomeractivities@gulfsouthpl.com@enron</th>\n",
       "      <th>2001-11</th>\n",
       "      <td>1</td>\n",
       "    </tr>\n",
       "    <tr>\n",
       "      <th rowspan=\"2\" valign=\"top\">.</th>\n",
       "      <th>2001-11</th>\n",
       "      <td>2</td>\n",
       "    </tr>\n",
       "    <tr>\n",
       "      <th>2001-12</th>\n",
       "      <td>1</td>\n",
       "    </tr>\n",
       "    <tr>\n",
       "      <th>a devries</th>\n",
       "      <th>2000-10</th>\n",
       "      <td>1</td>\n",
       "    </tr>\n",
       "    <tr>\n",
       "      <th>aa wayne caa</th>\n",
       "      <th>2002-01</th>\n",
       "      <td>1</td>\n",
       "    </tr>\n",
       "    <tr>\n",
       "      <th>aachazen caachazen</th>\n",
       "      <th>2002-01</th>\n",
       "      <td>1</td>\n",
       "    </tr>\n",
       "    <tr>\n",
       "      <th>aagigian suffolk caagigian</th>\n",
       "      <th>2002-01</th>\n",
       "      <td>1</td>\n",
       "    </tr>\n",
       "    <tr>\n",
       "      <th>aajoy t bpnfgry mailprograms delta</th>\n",
       "      <th>2002-02</th>\n",
       "      <td>1</td>\n",
       "    </tr>\n",
       "    <tr>\n",
       "      <th>aaldous watarts uwaterloo</th>\n",
       "      <th>2000-04</th>\n",
       "      <td>1</td>\n",
       "    </tr>\n",
       "    <tr>\n",
       "      <th>aamir maniar</th>\n",
       "      <th>2000-12</th>\n",
       "      <td>1</td>\n",
       "    </tr>\n",
       "  </tbody>\n",
       "</table>\n",
       "</div>"
      ],
      "text/plain": [
       "                                                            sent\n",
       "sender                                             date         \n",
       "*misc exchange customer activities\\tcustomeract... 2001-11     1\n",
       ".                                                  2001-11     2\n",
       "                                                   2001-12     1\n",
       "a devries                                          2000-10     1\n",
       "aa wayne caa                                       2002-01     1\n",
       "aachazen caachazen                                 2002-01     1\n",
       "aagigian suffolk caagigian                         2002-01     1\n",
       "aajoy t bpnfgry mailprograms delta                 2002-02     1\n",
       "aaldous watarts uwaterloo                          2000-04     1\n",
       "aamir maniar                                       2000-12     1"
      ]
     },
     "execution_count": 124,
     "metadata": {},
     "output_type": "execute_result"
    }
   ],
   "source": [
    "# get yearMonth attribute as \"date\"\n",
    "df_senders[\"date\"] = df_senders.datetime.dt.to_period(\"M\")\n",
    "# group by senders and  year-month dates\n",
    "gpby = [df_senders.sender, df_senders.date]\n",
    "df_sender_counts = df_senders.groupby(gpby)[\"sender\"].count()\n",
    "df_sender_counts = df_sender_counts.to_frame(name=\"sent\")\n",
    "df_sender_counts.head(10)"
   ]
  },
  {
   "cell_type": "markdown",
   "metadata": {},
   "source": [
    "### Get the most prolific senders"
   ]
  },
  {
   "cell_type": "code",
   "execution_count": 125,
   "metadata": {},
   "outputs": [],
   "source": [
    "# the most prolific senders, top-N senders\n",
    "topn_senders = [\n",
    "    \"jeff dasovich\",\n",
    "    \"sara shackleton\",\n",
    "    \"pete davis\",\n",
    "    \"chris germany\",\n",
    "    \"notes\",\n",
    "    \"vince kaminski\",\n",
    "    \"matthew lenhart\",\n",
    "    \"debra perlingiere\",\n",
    "    \"gerald nemec\",\n",
    "    \"announcements\" \n",
    "]"
   ]
  },
  {
   "cell_type": "code",
   "execution_count": 126,
   "metadata": {},
   "outputs": [
    {
     "data": {
      "text/html": [
       "<div>\n",
       "<style scoped>\n",
       "    .dataframe tbody tr th:only-of-type {\n",
       "        vertical-align: middle;\n",
       "    }\n",
       "\n",
       "    .dataframe tbody tr th {\n",
       "        vertical-align: top;\n",
       "    }\n",
       "\n",
       "    .dataframe thead th {\n",
       "        text-align: right;\n",
       "    }\n",
       "</style>\n",
       "<table border=\"1\" class=\"dataframe\">\n",
       "  <thead>\n",
       "    <tr style=\"text-align: right;\">\n",
       "      <th></th>\n",
       "      <th>sender</th>\n",
       "      <th>date</th>\n",
       "      <th>sent</th>\n",
       "    </tr>\n",
       "  </thead>\n",
       "  <tbody>\n",
       "    <tr>\n",
       "      <th>0</th>\n",
       "      <td>announcements</td>\n",
       "      <td>1999-08</td>\n",
       "      <td>4</td>\n",
       "    </tr>\n",
       "    <tr>\n",
       "      <th>1</th>\n",
       "      <td>announcements</td>\n",
       "      <td>1999-10</td>\n",
       "      <td>1</td>\n",
       "    </tr>\n",
       "    <tr>\n",
       "      <th>2</th>\n",
       "      <td>announcements</td>\n",
       "      <td>1999-11</td>\n",
       "      <td>1</td>\n",
       "    </tr>\n",
       "    <tr>\n",
       "      <th>3</th>\n",
       "      <td>announcements</td>\n",
       "      <td>1999-12</td>\n",
       "      <td>1</td>\n",
       "    </tr>\n",
       "    <tr>\n",
       "      <th>4</th>\n",
       "      <td>announcements</td>\n",
       "      <td>2000-01</td>\n",
       "      <td>5</td>\n",
       "    </tr>\n",
       "    <tr>\n",
       "      <th>5</th>\n",
       "      <td>announcements</td>\n",
       "      <td>2000-02</td>\n",
       "      <td>14</td>\n",
       "    </tr>\n",
       "    <tr>\n",
       "      <th>6</th>\n",
       "      <td>announcements</td>\n",
       "      <td>2000-03</td>\n",
       "      <td>8</td>\n",
       "    </tr>\n",
       "    <tr>\n",
       "      <th>7</th>\n",
       "      <td>announcements</td>\n",
       "      <td>2000-04</td>\n",
       "      <td>7</td>\n",
       "    </tr>\n",
       "    <tr>\n",
       "      <th>8</th>\n",
       "      <td>announcements</td>\n",
       "      <td>2000-05</td>\n",
       "      <td>9</td>\n",
       "    </tr>\n",
       "    <tr>\n",
       "      <th>9</th>\n",
       "      <td>announcements</td>\n",
       "      <td>2000-06</td>\n",
       "      <td>38</td>\n",
       "    </tr>\n",
       "  </tbody>\n",
       "</table>\n",
       "</div>"
      ],
      "text/plain": [
       "          sender    date  sent\n",
       "0  announcements 1999-08     4\n",
       "1  announcements 1999-10     1\n",
       "2  announcements 1999-11     1\n",
       "3  announcements 1999-12     1\n",
       "4  announcements 2000-01     5\n",
       "5  announcements 2000-02    14\n",
       "6  announcements 2000-03     8\n",
       "7  announcements 2000-04     7\n",
       "8  announcements 2000-05     9\n",
       "9  announcements 2000-06    38"
      ]
     },
     "execution_count": 126,
     "metadata": {},
     "output_type": "execute_result"
    }
   ],
   "source": [
    "# get top-N sender data\n",
    "df_topn = df_sender_counts.loc[top10_most_senders, :].reset_index()\n",
    "df_topn.head(10)"
   ]
  },
  {
   "cell_type": "code",
   "execution_count": 133,
   "metadata": {},
   "outputs": [],
   "source": [
    "colors = list(range(40))\n",
    "title = 'Main Source for News'\n",
    "# labels = ['Television', 'Newspaper', 'Internet', 'Radio']\n",
    "colors = ['rgb(67,67,67)', 'rgb(115,115,115)', 'rgb(49,130,189)', 'rgb(189,189,189)']\n",
    "mode_size = [8, 8, 12, 8]\n",
    "line_size = [2, 2, 4, 2]\n",
    "id = pd.date_range(start='1998-08', end=\"2003-01\", freq='MS').to_period(\"M\")"
   ]
  },
  {
   "cell_type": "code",
   "execution_count": 143,
   "metadata": {},
   "outputs": [],
   "source": [
    "data = []\n",
    "\n",
    "for i in range(0, topn):\n",
    "    df_sender = df_sender_counts.loc[topn_senders[i], :]\n",
    "    df_sender = df_sender.reindex(id, fill_value=0)\n",
    "    \n",
    "    trace = go.Scatter(\n",
    "        x=list(df_sender.index.astype(str).values),\n",
    "        y=df_sender.sent,\n",
    "        name = top10_most_senders[i],\n",
    "#         line = dict(color=np.random.randn(500)),\n",
    "#         colorscale='Viridis',\n",
    "        opacity = 0.8,\n",
    "        mode=\"lines+markers\"\n",
    "    )\n",
    "\n",
    "    data.append(trace)"
   ]
  },
  {
   "cell_type": "code",
   "execution_count": 144,
   "metadata": {},
   "outputs": [
    {
     "data": {
      "text/html": [
       "<iframe id=\"igraph\" scrolling=\"no\" style=\"border:none;\" seamless=\"seamless\" src=\"https://plot.ly/~aidinraad/4.embed\" height=\"525px\" width=\"100%\"></iframe>"
      ],
      "text/plain": [
       "<plotly.tools.PlotlyDisplay object>"
      ]
     },
     "execution_count": 144,
     "metadata": {},
     "output_type": "execute_result"
    }
   ],
   "source": [
    "layout = dict(\n",
    "    title='Time Series with Rangeslider',\n",
    "    xaxis=dict(\n",
    "        rangeselector=dict(\n",
    "            buttons=list([\n",
    "                dict(count=1,\n",
    "                     label='1m',\n",
    "                     step='month',\n",
    "                     stepmode='backward'),\n",
    "                dict(count=6,\n",
    "                     label='6m',\n",
    "                     step='month',\n",
    "                     stepmode='backward'),\n",
    "                dict(step='all')\n",
    "            ])\n",
    "        ),\n",
    "        rangeslider=dict(\n",
    "            visible = True\n",
    "        ),\n",
    "        type='date'\n",
    "    )\n",
    ")\n",
    "\n",
    "fig = dict(data=data, layout=layout)\n",
    "py.iplot(fig, filename = \"Time Series with Rangeslider\")"
   ]
  },
  {
   "cell_type": "code",
   "execution_count": 145,
   "metadata": {},
   "outputs": [
    {
     "ename": "NameError",
     "evalue": "name 'traces' is not defined",
     "output_type": "error",
     "traceback": [
      "\u001b[0;31m---------------------------------------------------------------------------\u001b[0m",
      "\u001b[0;31mNameError\u001b[0m                                 Traceback (most recent call last)",
      "\u001b[0;32m<ipython-input-145-67eac8e7bac6>\u001b[0m in \u001b[0;36m<module>\u001b[0;34m()\u001b[0m\n\u001b[1;32m     36\u001b[0m \u001b[0;31m# layout['annotations'] = annotations\u001b[0m\u001b[0;34m\u001b[0m\u001b[0;34m\u001b[0m\u001b[0m\n\u001b[1;32m     37\u001b[0m \u001b[0;34m\u001b[0m\u001b[0m\n\u001b[0;32m---> 38\u001b[0;31m \u001b[0mfig\u001b[0m \u001b[0;34m=\u001b[0m \u001b[0mgo\u001b[0m\u001b[0;34m.\u001b[0m\u001b[0mFigure\u001b[0m\u001b[0;34m(\u001b[0m\u001b[0mdata\u001b[0m\u001b[0;34m=\u001b[0m\u001b[0mtraces\u001b[0m\u001b[0;34m,\u001b[0m \u001b[0mlayout\u001b[0m\u001b[0;34m=\u001b[0m\u001b[0mlayout\u001b[0m\u001b[0;34m)\u001b[0m\u001b[0;34m\u001b[0m\u001b[0m\n\u001b[0m\u001b[1;32m     39\u001b[0m \u001b[0mpy\u001b[0m\u001b[0;34m.\u001b[0m\u001b[0miplot\u001b[0m\u001b[0;34m(\u001b[0m\u001b[0mfig\u001b[0m\u001b[0;34m,\u001b[0m \u001b[0mfilename\u001b[0m\u001b[0;34m=\u001b[0m\u001b[0;34m'news-source'\u001b[0m\u001b[0;34m)\u001b[0m\u001b[0;34m\u001b[0m\u001b[0m\n",
      "\u001b[0;31mNameError\u001b[0m: name 'traces' is not defined"
     ]
    }
   ],
   "source": [
    "# annotations = []\n",
    "# # Adding labels\n",
    "# for y_trace, label, color in zip(y_data, labels, colors):\n",
    "#     # labeling the left_side of the plot\n",
    "#     annotations.append(dict(xref='paper', x=0.05, y=y_trace[0],\n",
    "#                                   xanchor='right', yanchor='middle',\n",
    "#                                   text=label + ' {}%'.format(y_trace[0]),\n",
    "#                                   font=dict(family='Arial',\n",
    "#                                             size=16),\n",
    "#                                   showarrow=False))\n",
    "#     # labeling the right_side of the plot\n",
    "#     annotations.append(dict(xref='paper', x=0.95, y=y_trace[11],\n",
    "#                                   xanchor='left', yanchor='middle',\n",
    "#                                   text='{}%'.format(y_trace[11]),\n",
    "#                                   font=dict(family='Arial',\n",
    "#                                             size=16),\n",
    "#                                   showarrow=False))\n",
    "# # Title\n",
    "# annotations.append(dict(xref='paper', yref='paper', x=0.0, y=1.05,\n",
    "#                               xanchor='left', yanchor='bottom',\n",
    "#                               text='Main Source for News',\n",
    "#                               font=dict(family='Arial',\n",
    "#                                         size=30,\n",
    "#                                         color='rgb(37,37,37)'),\n",
    "#                               showarrow=False))\n",
    "# # Source\n",
    "# annotations.append(dict(xref='paper', yref='paper', x=0.5, y=-0.1,\n",
    "#                               xanchor='center', yanchor='top',\n",
    "#                               text='Source: PewResearch Center & ' +\n",
    "#                                    'Storytelling with data',\n",
    "#                               font=dict(family='Arial',\n",
    "#                                         size=12,\n",
    "#                                         color='rgb(150,150,150)'),\n",
    "#                               showarrow=False))\n",
    "\n",
    "# layout['annotations'] = annotations\n",
    "\n",
    "fig = go.Figure(data=traces, layout=layout)\n",
    "py.iplot(fig, filename='news-source')"
   ]
  },
  {
   "cell_type": "code",
   "execution_count": null,
   "metadata": {},
   "outputs": [],
   "source": []
  },
  {
   "cell_type": "code",
   "execution_count": null,
   "metadata": {},
   "outputs": [],
   "source": [
    "\n"
   ]
  },
  {
   "cell_type": "code",
   "execution_count": null,
   "metadata": {},
   "outputs": [],
   "source": []
  }
 ],
 "metadata": {
  "kernelspec": {
   "display_name": "Python [conda env:enron]",
   "language": "python",
   "name": "conda-env-enron-py"
  },
  "language_info": {
   "codemirror_mode": {
    "name": "ipython",
    "version": 3
   },
   "file_extension": ".py",
   "mimetype": "text/x-python",
   "name": "python",
   "nbconvert_exporter": "python",
   "pygments_lexer": "ipython3",
   "version": "3.6.6"
  }
 },
 "nbformat": 4,
 "nbformat_minor": 2
}
