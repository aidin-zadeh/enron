{
 "cells": [
  {
   "cell_type": "code",
   "execution_count": 1,
   "metadata": {},
   "outputs": [],
   "source": [
    "import os, inspect\n",
    "import pandas as pd\n",
    "import numpy as np\n",
    "import datetime as dt"
   ]
  },
  {
   "cell_type": "code",
   "execution_count": 2,
   "metadata": {},
   "outputs": [
    {
     "name": "stdout",
     "output_type": "stream",
     "text": [
      "(435816, 2) (205661, 2)\n"
     ]
    }
   ],
   "source": [
    "CURR_DIR =  os.path.dirname(inspect.getabsfile(inspect.currentframe()))\n",
    "ROOT_DIR =  os.path.dirname(CURR_DIR)\n",
    "\n",
    "path = os.path.join(ROOT_DIR,\"enron\",\"data\", \"ext\")\n",
    "ffname = os.path.join(path, \"enron-recipients.csv\")\n",
    "df_recipients = pd.read_csv(ffname, parse_dates=[\"datetime\"])\n",
    "ffname = os.path.join(path, \"enron-senders.csv\")\n",
    "df_senders = pd.read_csv(ffname, parse_dates=[\"datetime\"])\n",
    "print(df_recipients.shape, df_senders.shape)"
   ]
  },
  {
   "cell_type": "code",
   "execution_count": 10,
   "metadata": {},
   "outputs": [
    {
     "data": {
      "text/plain": [
       "(15214, 1)"
      ]
     },
     "execution_count": 10,
     "metadata": {},
     "output_type": "execute_result"
    }
   ],
   "source": [
    "df_sender_counts = df_senders.groupby(\"sender\")[\"sender\"].count()\n",
    "df_sender_counts = df_sender_counts.to_frame(name=\"sent\")\n",
    "df_sender_counts.head()"
   ]
  },
  {
   "cell_type": "code",
   "execution_count": 9,
   "metadata": {},
   "outputs": [
    {
     "data": {
      "text/plain": [
       "(28774, 1)"
      ]
     },
     "execution_count": 9,
     "metadata": {},
     "output_type": "execute_result"
    }
   ],
   "source": [
    "df_recipient_counts = df_recipients.groupby(\"recipient\")[\"recipient\"].count()\n",
    "df_recipient_counts = df_recipient_counts.to_frame(name=\"received\")\n",
    "df_recipient_counts.head()"
   ]
  },
  {
   "cell_type": "code",
   "execution_count": 31,
   "metadata": {},
   "outputs": [
    {
     "data": {
      "text/html": [
       "<div>\n",
       "<style scoped>\n",
       "    .dataframe tbody tr th:only-of-type {\n",
       "        vertical-align: middle;\n",
       "    }\n",
       "\n",
       "    .dataframe tbody tr th {\n",
       "        vertical-align: top;\n",
       "    }\n",
       "\n",
       "    .dataframe thead th {\n",
       "        text-align: right;\n",
       "    }\n",
       "</style>\n",
       "<table border=\"1\" class=\"dataframe\">\n",
       "  <thead>\n",
       "    <tr style=\"text-align: right;\">\n",
       "      <th></th>\n",
       "      <th>sent</th>\n",
       "      <th>received</th>\n",
       "    </tr>\n",
       "  </thead>\n",
       "  <tbody>\n",
       "    <tr>\n",
       "      <th>jeff dasovich</th>\n",
       "      <td>5232</td>\n",
       "      <td>2249</td>\n",
       "    </tr>\n",
       "    <tr>\n",
       "      <th>sara shackleton</th>\n",
       "      <td>4591</td>\n",
       "      <td>5217</td>\n",
       "    </tr>\n",
       "    <tr>\n",
       "      <th>pete davis</th>\n",
       "      <td>3898</td>\n",
       "      <td>853</td>\n",
       "    </tr>\n",
       "    <tr>\n",
       "      <th>chris germany</th>\n",
       "      <td>3703</td>\n",
       "      <td>1591</td>\n",
       "    </tr>\n",
       "    <tr>\n",
       "      <th>notes</th>\n",
       "      <td>3314</td>\n",
       "      <td>1023</td>\n",
       "    </tr>\n",
       "    <tr>\n",
       "      <th>vince kaminski</th>\n",
       "      <td>2937</td>\n",
       "      <td>3046</td>\n",
       "    </tr>\n",
       "    <tr>\n",
       "      <th>matthew lenhart</th>\n",
       "      <td>2832</td>\n",
       "      <td>448</td>\n",
       "    </tr>\n",
       "    <tr>\n",
       "      <th>debra perlingiere</th>\n",
       "      <td>2611</td>\n",
       "      <td>469</td>\n",
       "    </tr>\n",
       "    <tr>\n",
       "      <th>gerald nemec</th>\n",
       "      <td>2353</td>\n",
       "      <td>3301</td>\n",
       "    </tr>\n",
       "    <tr>\n",
       "      <th>announcements</th>\n",
       "      <td>2243</td>\n",
       "      <td>5</td>\n",
       "    </tr>\n",
       "  </tbody>\n",
       "</table>\n",
       "</div>"
      ],
      "text/plain": [
       "                   sent  received\n",
       "jeff dasovich      5232      2249\n",
       "sara shackleton    4591      5217\n",
       "pete davis         3898       853\n",
       "chris germany      3703      1591\n",
       "notes              3314      1023\n",
       "vince kaminski     2937      3046\n",
       "matthew lenhart    2832       448\n",
       "debra perlingiere  2611       469\n",
       "gerald nemec       2353      3301\n",
       "announcements      2243         5"
      ]
     },
     "execution_count": 31,
     "metadata": {},
     "output_type": "execute_result"
    }
   ],
   "source": [
    "df_counts = df_sender_counts.join(df_recipient_counts, how=\"outer\") \\\n",
    "    .fillna(0) \\\n",
    "    .applymap(lambda x: int(x)) \\\n",
    "    .sort_values(by=\"sent\", ascending=False)\n",
    "df_counts.head(10)"
   ]
  },
  {
   "cell_type": "code",
   "execution_count": null,
   "metadata": {},
   "outputs": [],
   "source": []
  }
 ],
 "metadata": {
  "kernelspec": {
   "display_name": "Python [default]",
   "language": "python",
   "name": "python3"
  },
  "language_info": {
   "codemirror_mode": {
    "name": "ipython",
    "version": 3
   },
   "file_extension": ".py",
   "mimetype": "text/x-python",
   "name": "python",
   "nbconvert_exporter": "python",
   "pygments_lexer": "ipython3",
   "version": "3.6.6"
  }
 },
 "nbformat": 4,
 "nbformat_minor": 2
}
