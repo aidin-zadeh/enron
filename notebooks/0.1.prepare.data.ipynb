{
 "cells": [
  {
   "cell_type": "code",
   "execution_count": 1,
   "metadata": {},
   "outputs": [],
   "source": [
    "import os, inspect\n",
    "import re\n",
    "from itertools import chain, compress\n",
    "import pandas as pd\n",
    "import numpy as np\n",
    "import datetime as dt\n",
    "from time import time"
   ]
  },
  {
   "cell_type": "code",
   "execution_count": 2,
   "metadata": {},
   "outputs": [],
   "source": [
    "CURR_DIR =  os.path.dirname(inspect.getabsfile(inspect.currentframe()))\n",
    "ROOT_DIR =  os.path.dirname(CURR_DIR)\n",
    "\n",
    "ffname = os.path.join(ROOT_DIR,\"enron\",\"data\", \"raw\", \n",
    "                      \"enron-event-history-all.csv\")"
   ]
  },
  {
   "cell_type": "code",
   "execution_count": 3,
   "metadata": {},
   "outputs": [],
   "source": [
    "# function to flatten large 2D lists\n",
    "def fast_flatten(in_list):\n",
    "    return list(chain.from_iterable(in_list))"
   ]
  },
  {
   "cell_type": "markdown",
   "metadata": {},
   "source": [
    "### Set params"
   ]
  },
  {
   "cell_type": "code",
   "execution_count": 4,
   "metadata": {},
   "outputs": [],
   "source": [
    "values_to_drop = [\"\", \".\"]\n",
    "chars_to_drop = ['\"']"
   ]
  },
  {
   "cell_type": "code",
   "execution_count": 5,
   "metadata": {},
   "outputs": [
    {
     "data": {
      "text/html": [
       "<div>\n",
       "<style scoped>\n",
       "    .dataframe tbody tr th:only-of-type {\n",
       "        vertical-align: middle;\n",
       "    }\n",
       "\n",
       "    .dataframe tbody tr th {\n",
       "        vertical-align: top;\n",
       "    }\n",
       "\n",
       "    .dataframe thead th {\n",
       "        text-align: right;\n",
       "    }\n",
       "</style>\n",
       "<table border=\"1\" class=\"dataframe\">\n",
       "  <thead>\n",
       "    <tr style=\"text-align: right;\">\n",
       "      <th></th>\n",
       "      <th>datetime</th>\n",
       "      <th>sender</th>\n",
       "      <th>recipients</th>\n",
       "    </tr>\n",
       "  </thead>\n",
       "  <tbody>\n",
       "    <tr>\n",
       "      <th>0</th>\n",
       "      <td>1998-05-27 17:31:00</td>\n",
       "      <td>Christopher Behney</td>\n",
       "      <td>Toni P Schulenburg|mary hain</td>\n",
       "    </tr>\n",
       "    <tr>\n",
       "      <th>1</th>\n",
       "      <td>1998-10-30 17:43:00</td>\n",
       "      <td>mark legal taylor</td>\n",
       "      <td>Marc.R.Cutler@BankAmerica.com</td>\n",
       "    </tr>\n",
       "    <tr>\n",
       "      <th>2</th>\n",
       "      <td>1998-10-30 17:56:00</td>\n",
       "      <td>mark legal taylor</td>\n",
       "      <td>Marc.R.Cutler@BankAmerica.com</td>\n",
       "    </tr>\n",
       "    <tr>\n",
       "      <th>3</th>\n",
       "      <td>1998-10-30 18:02:00</td>\n",
       "      <td>mark legal taylor</td>\n",
       "      <td>shari stack</td>\n",
       "    </tr>\n",
       "    <tr>\n",
       "      <th>4</th>\n",
       "      <td>1998-10-30 19:06:00</td>\n",
       "      <td>mark legal taylor</td>\n",
       "      <td>Marc.R.Cutler@BankAmerica.com</td>\n",
       "    </tr>\n",
       "  </tbody>\n",
       "</table>\n",
       "</div>"
      ],
      "text/plain": [
       "             datetime              sender                     recipients\n",
       "0 1998-05-27 17:31:00  Christopher Behney   Toni P Schulenburg|mary hain\n",
       "1 1998-10-30 17:43:00   mark legal taylor  Marc.R.Cutler@BankAmerica.com\n",
       "2 1998-10-30 17:56:00   mark legal taylor  Marc.R.Cutler@BankAmerica.com\n",
       "3 1998-10-30 18:02:00   mark legal taylor                    shari stack\n",
       "4 1998-10-30 19:06:00   mark legal taylor  Marc.R.Cutler@BankAmerica.com"
      ]
     },
     "execution_count": 5,
     "metadata": {},
     "output_type": "execute_result"
    }
   ],
   "source": [
    "df = pd.read_csv(\n",
    "    ffname,\n",
    "    header=None,\n",
    "    converters= {\n",
    "        0: lambda x: dt.datetime.fromtimestamp(int(x)/1000.0),\n",
    "    },\n",
    "    names=[\"datetime\", \"id\", \"sender\", \"recipients\", \"topic\", \"mode\"],\n",
    "    usecols=[\"datetime\", \"sender\", \"recipients\"],\n",
    ")\n",
    "df.head()"
   ]
  },
  {
   "cell_type": "code",
   "execution_count": 6,
   "metadata": {},
   "outputs": [
    {
     "name": "stdout",
     "output_type": "stream",
     "text": [
      "------------------------------ columns ------------------------------\n",
      "\n",
      "Index(['datetime', 'sender', 'recipients', 'date', 'time'], dtype='object')\n",
      "------------------------------ shape------------------------------\n",
      "\n",
      "(205731, 5)\n",
      "------------------------------ data types ------------------------------\n",
      "\n",
      "datetime      datetime64[ns]\n",
      "sender                object\n",
      "recipients            object\n",
      "date                  object\n",
      "time                  object\n",
      "dtype: object\n",
      "------------------------------ top 5 rows ------------------------------\n",
      "\n"
     ]
    },
    {
     "data": {
      "text/html": [
       "<div>\n",
       "<style scoped>\n",
       "    .dataframe tbody tr th:only-of-type {\n",
       "        vertical-align: middle;\n",
       "    }\n",
       "\n",
       "    .dataframe tbody tr th {\n",
       "        vertical-align: top;\n",
       "    }\n",
       "\n",
       "    .dataframe thead th {\n",
       "        text-align: right;\n",
       "    }\n",
       "</style>\n",
       "<table border=\"1\" class=\"dataframe\">\n",
       "  <thead>\n",
       "    <tr style=\"text-align: right;\">\n",
       "      <th></th>\n",
       "      <th>datetime</th>\n",
       "      <th>sender</th>\n",
       "      <th>recipients</th>\n",
       "      <th>date</th>\n",
       "      <th>time</th>\n",
       "    </tr>\n",
       "  </thead>\n",
       "  <tbody>\n",
       "    <tr>\n",
       "      <th>0</th>\n",
       "      <td>1998-05-27 17:31:00</td>\n",
       "      <td>Christopher Behney</td>\n",
       "      <td>Toni P Schulenburg|mary hain</td>\n",
       "      <td>1998-05-27</td>\n",
       "      <td>17:31:00</td>\n",
       "    </tr>\n",
       "    <tr>\n",
       "      <th>1</th>\n",
       "      <td>1998-10-30 17:43:00</td>\n",
       "      <td>mark legal taylor</td>\n",
       "      <td>Marc.R.Cutler@BankAmerica.com</td>\n",
       "      <td>1998-10-30</td>\n",
       "      <td>17:43:00</td>\n",
       "    </tr>\n",
       "    <tr>\n",
       "      <th>2</th>\n",
       "      <td>1998-10-30 17:56:00</td>\n",
       "      <td>mark legal taylor</td>\n",
       "      <td>Marc.R.Cutler@BankAmerica.com</td>\n",
       "      <td>1998-10-30</td>\n",
       "      <td>17:56:00</td>\n",
       "    </tr>\n",
       "    <tr>\n",
       "      <th>3</th>\n",
       "      <td>1998-10-30 18:02:00</td>\n",
       "      <td>mark legal taylor</td>\n",
       "      <td>shari stack</td>\n",
       "      <td>1998-10-30</td>\n",
       "      <td>18:02:00</td>\n",
       "    </tr>\n",
       "    <tr>\n",
       "      <th>4</th>\n",
       "      <td>1998-10-30 19:06:00</td>\n",
       "      <td>mark legal taylor</td>\n",
       "      <td>Marc.R.Cutler@BankAmerica.com</td>\n",
       "      <td>1998-10-30</td>\n",
       "      <td>19:06:00</td>\n",
       "    </tr>\n",
       "  </tbody>\n",
       "</table>\n",
       "</div>"
      ],
      "text/plain": [
       "             datetime              sender                     recipients  \\\n",
       "0 1998-05-27 17:31:00  Christopher Behney   Toni P Schulenburg|mary hain   \n",
       "1 1998-10-30 17:43:00   mark legal taylor  Marc.R.Cutler@BankAmerica.com   \n",
       "2 1998-10-30 17:56:00   mark legal taylor  Marc.R.Cutler@BankAmerica.com   \n",
       "3 1998-10-30 18:02:00   mark legal taylor                    shari stack   \n",
       "4 1998-10-30 19:06:00   mark legal taylor  Marc.R.Cutler@BankAmerica.com   \n",
       "\n",
       "         date      time  \n",
       "0  1998-05-27  17:31:00  \n",
       "1  1998-10-30  17:43:00  \n",
       "2  1998-10-30  17:56:00  \n",
       "3  1998-10-30  18:02:00  \n",
       "4  1998-10-30  19:06:00  "
      ]
     },
     "execution_count": 6,
     "metadata": {},
     "output_type": "execute_result"
    }
   ],
   "source": [
    "df[\"date\"] = df.datetime.dt.date\n",
    "df[\"time\"] = df.datetime.dt.time\n",
    "df.head()\n",
    "\n",
    "print(\"-\"*30 + \" columns \" + \"-\"*30 + os.linesep)\n",
    "print(repr(df.columns))\n",
    "print(\"-\"*30 + \" shape\" + \"-\"*30 + os.linesep)\n",
    "print(df.shape)\n",
    "print(\"-\"*30 + \" data types \" + \"-\"*30 + os.linesep)\n",
    "print(df.dtypes)\n",
    "print(\"-\"*30 + \" top 5 rows \" + \"-\"*30 + os.linesep)\n",
    "df.head()"
   ]
  },
  {
   "cell_type": "code",
   "execution_count": 7,
   "metadata": {},
   "outputs": [
    {
     "data": {
      "text/plain": [
       "datetime       0\n",
       "sender        32\n",
       "recipients    38\n",
       "date           0\n",
       "time           0\n",
       "dtype: int64"
      ]
     },
     "execution_count": 7,
     "metadata": {},
     "output_type": "execute_result"
    }
   ],
   "source": [
    "# check on null rows\n",
    "df.isnull().sum()"
   ]
  },
  {
   "cell_type": "code",
   "execution_count": 8,
   "metadata": {},
   "outputs": [],
   "source": [
    "# drop any rows with missing values (None) at 'sender' or 'recipients' columns\n",
    "df.dropna(axis=0, how=\"any\", subset=[\"sender\", \"recipients\"], inplace=True)"
   ]
  },
  {
   "cell_type": "code",
   "execution_count": 9,
   "metadata": {},
   "outputs": [
    {
     "data": {
      "text/html": [
       "<div>\n",
       "<style scoped>\n",
       "    .dataframe tbody tr th:only-of-type {\n",
       "        vertical-align: middle;\n",
       "    }\n",
       "\n",
       "    .dataframe tbody tr th {\n",
       "        vertical-align: top;\n",
       "    }\n",
       "\n",
       "    .dataframe thead th {\n",
       "        text-align: right;\n",
       "    }\n",
       "</style>\n",
       "<table border=\"1\" class=\"dataframe\">\n",
       "  <thead>\n",
       "    <tr style=\"text-align: right;\">\n",
       "      <th></th>\n",
       "      <th>datetime</th>\n",
       "      <th>sender</th>\n",
       "      <th>recipients</th>\n",
       "      <th>date</th>\n",
       "      <th>time</th>\n",
       "    </tr>\n",
       "  </thead>\n",
       "  <tbody>\n",
       "    <tr>\n",
       "      <th>0</th>\n",
       "      <td>1998-05-27 17:31:00</td>\n",
       "      <td>christopher behney</td>\n",
       "      <td>toni p schulenburg|mary hain</td>\n",
       "      <td>1998-05-27</td>\n",
       "      <td>17:31:00</td>\n",
       "    </tr>\n",
       "    <tr>\n",
       "      <th>1</th>\n",
       "      <td>1998-10-30 17:43:00</td>\n",
       "      <td>mark legal taylor</td>\n",
       "      <td>marc.r.cutler@bankamerica.com</td>\n",
       "      <td>1998-10-30</td>\n",
       "      <td>17:43:00</td>\n",
       "    </tr>\n",
       "    <tr>\n",
       "      <th>2</th>\n",
       "      <td>1998-10-30 17:56:00</td>\n",
       "      <td>mark legal taylor</td>\n",
       "      <td>marc.r.cutler@bankamerica.com</td>\n",
       "      <td>1998-10-30</td>\n",
       "      <td>17:56:00</td>\n",
       "    </tr>\n",
       "    <tr>\n",
       "      <th>3</th>\n",
       "      <td>1998-10-30 18:02:00</td>\n",
       "      <td>mark legal taylor</td>\n",
       "      <td>shari stack</td>\n",
       "      <td>1998-10-30</td>\n",
       "      <td>18:02:00</td>\n",
       "    </tr>\n",
       "    <tr>\n",
       "      <th>4</th>\n",
       "      <td>1998-10-30 19:06:00</td>\n",
       "      <td>mark legal taylor</td>\n",
       "      <td>marc.r.cutler@bankamerica.com</td>\n",
       "      <td>1998-10-30</td>\n",
       "      <td>19:06:00</td>\n",
       "    </tr>\n",
       "  </tbody>\n",
       "</table>\n",
       "</div>"
      ],
      "text/plain": [
       "             datetime              sender                     recipients  \\\n",
       "0 1998-05-27 17:31:00  christopher behney   toni p schulenburg|mary hain   \n",
       "1 1998-10-30 17:43:00   mark legal taylor  marc.r.cutler@bankamerica.com   \n",
       "2 1998-10-30 17:56:00   mark legal taylor  marc.r.cutler@bankamerica.com   \n",
       "3 1998-10-30 18:02:00   mark legal taylor                    shari stack   \n",
       "4 1998-10-30 19:06:00   mark legal taylor  marc.r.cutler@bankamerica.com   \n",
       "\n",
       "         date      time  \n",
       "0  1998-05-27  17:31:00  \n",
       "1  1998-10-30  17:43:00  \n",
       "2  1998-10-30  17:56:00  \n",
       "3  1998-10-30  18:02:00  \n",
       "4  1998-10-30  19:06:00  "
      ]
     },
     "execution_count": 9,
     "metadata": {},
     "output_type": "execute_result"
    }
   ],
   "source": [
    "# convert all entries of 'sender'/'recipients' columns to lower case\n",
    "def func(x):\n",
    "    x = x.lower()\n",
    "    x = x.replace('\"', \"\")\n",
    "    return x\n",
    "df[[\"sender\" , \"recipients\"]] = df[[\"sender\" , \"recipients\"]].applymap(func)\n",
    "df.head()"
   ]
  },
  {
   "cell_type": "code",
   "execution_count": 10,
   "metadata": {},
   "outputs": [
    {
     "data": {
      "text/html": [
       "<div>\n",
       "<style scoped>\n",
       "    .dataframe tbody tr th:only-of-type {\n",
       "        vertical-align: middle;\n",
       "    }\n",
       "\n",
       "    .dataframe tbody tr th {\n",
       "        vertical-align: top;\n",
       "    }\n",
       "\n",
       "    .dataframe thead th {\n",
       "        text-align: right;\n",
       "    }\n",
       "</style>\n",
       "<table border=\"1\" class=\"dataframe\">\n",
       "  <thead>\n",
       "    <tr style=\"text-align: right;\">\n",
       "      <th></th>\n",
       "      <th>datetime</th>\n",
       "      <th>sender</th>\n",
       "      <th>recipients</th>\n",
       "      <th>date</th>\n",
       "      <th>time</th>\n",
       "    </tr>\n",
       "  </thead>\n",
       "  <tbody>\n",
       "    <tr>\n",
       "      <th>0</th>\n",
       "      <td>1998-05-27 17:31:00</td>\n",
       "      <td>christopher behney</td>\n",
       "      <td>[toni p schulenburg, mary hain]</td>\n",
       "      <td>1998-05-27</td>\n",
       "      <td>17:31:00</td>\n",
       "    </tr>\n",
       "    <tr>\n",
       "      <th>1</th>\n",
       "      <td>1998-10-30 17:43:00</td>\n",
       "      <td>mark legal taylor</td>\n",
       "      <td>[marc.r.cutler@bankamerica.com]</td>\n",
       "      <td>1998-10-30</td>\n",
       "      <td>17:43:00</td>\n",
       "    </tr>\n",
       "    <tr>\n",
       "      <th>2</th>\n",
       "      <td>1998-10-30 17:56:00</td>\n",
       "      <td>mark legal taylor</td>\n",
       "      <td>[marc.r.cutler@bankamerica.com]</td>\n",
       "      <td>1998-10-30</td>\n",
       "      <td>17:56:00</td>\n",
       "    </tr>\n",
       "    <tr>\n",
       "      <th>3</th>\n",
       "      <td>1998-10-30 18:02:00</td>\n",
       "      <td>mark legal taylor</td>\n",
       "      <td>[shari stack]</td>\n",
       "      <td>1998-10-30</td>\n",
       "      <td>18:02:00</td>\n",
       "    </tr>\n",
       "    <tr>\n",
       "      <th>4</th>\n",
       "      <td>1998-10-30 19:06:00</td>\n",
       "      <td>mark legal taylor</td>\n",
       "      <td>[marc.r.cutler@bankamerica.com]</td>\n",
       "      <td>1998-10-30</td>\n",
       "      <td>19:06:00</td>\n",
       "    </tr>\n",
       "  </tbody>\n",
       "</table>\n",
       "</div>"
      ],
      "text/plain": [
       "             datetime              sender                       recipients  \\\n",
       "0 1998-05-27 17:31:00  christopher behney  [toni p schulenburg, mary hain]   \n",
       "1 1998-10-30 17:43:00   mark legal taylor  [marc.r.cutler@bankamerica.com]   \n",
       "2 1998-10-30 17:56:00   mark legal taylor  [marc.r.cutler@bankamerica.com]   \n",
       "3 1998-10-30 18:02:00   mark legal taylor                    [shari stack]   \n",
       "4 1998-10-30 19:06:00   mark legal taylor  [marc.r.cutler@bankamerica.com]   \n",
       "\n",
       "         date      time  \n",
       "0  1998-05-27  17:31:00  \n",
       "1  1998-10-30  17:43:00  \n",
       "2  1998-10-30  17:56:00  \n",
       "3  1998-10-30  18:02:00  \n",
       "4  1998-10-30  19:06:00  "
      ]
     },
     "execution_count": 10,
     "metadata": {},
     "output_type": "execute_result"
    }
   ],
   "source": [
    "# tokenize the recipient column\n",
    "df.recipients = df.recipients.str.split(\"|\")\n",
    "df.head()"
   ]
  },
  {
   "cell_type": "markdown",
   "metadata": {},
   "source": [
    "### Create recipients DataFrame"
   ]
  },
  {
   "cell_type": "code",
   "execution_count": 11,
   "metadata": {},
   "outputs": [],
   "source": [
    "column_names = [\"datetime\", \"recipient\"]\n",
    "df_recipients = pd.DataFrame(columns=column_names)\n",
    "frames = []\n",
    "for idx, row in df.loc[0:, :].iterrows():\n",
    "    frames.append(pd.DataFrame(\n",
    "        data={\"datetime\":[row.datetime]*len(row.recipients),\"recipient\": row.recipients}))"
   ]
  },
  {
   "cell_type": "code",
   "execution_count": 12,
   "metadata": {},
   "outputs": [],
   "source": [
    "# create diectionary from column names\n",
    "df_dict_ = dict.fromkeys(column_names, [])"
   ]
  },
  {
   "cell_type": "code",
   "execution_count": 13,
   "metadata": {},
   "outputs": [],
   "source": [
    "for col in column_names:\n",
    "    # use a generator to save memory\n",
    "    extracted = (frame[col] for frame in frames)\n",
    "    # flatten and save to df_dict\n",
    "    df_dict_[col] = fast_flatten(extracted)"
   ]
  },
  {
   "cell_type": "code",
   "execution_count": 14,
   "metadata": {},
   "outputs": [
    {
     "data": {
      "text/html": [
       "<div>\n",
       "<style scoped>\n",
       "    .dataframe tbody tr th:only-of-type {\n",
       "        vertical-align: middle;\n",
       "    }\n",
       "\n",
       "    .dataframe tbody tr th {\n",
       "        vertical-align: top;\n",
       "    }\n",
       "\n",
       "    .dataframe thead th {\n",
       "        text-align: right;\n",
       "    }\n",
       "</style>\n",
       "<table border=\"1\" class=\"dataframe\">\n",
       "  <thead>\n",
       "    <tr style=\"text-align: right;\">\n",
       "      <th></th>\n",
       "      <th>datetime</th>\n",
       "      <th>recipient</th>\n",
       "    </tr>\n",
       "  </thead>\n",
       "  <tbody>\n",
       "    <tr>\n",
       "      <th>0</th>\n",
       "      <td>1998-05-27 17:31:00</td>\n",
       "      <td>toni p schulenburg</td>\n",
       "    </tr>\n",
       "    <tr>\n",
       "      <th>1</th>\n",
       "      <td>1998-05-27 17:31:00</td>\n",
       "      <td>mary hain</td>\n",
       "    </tr>\n",
       "    <tr>\n",
       "      <th>2</th>\n",
       "      <td>1998-10-30 17:43:00</td>\n",
       "      <td>marc.r.cutler@bankamerica.com</td>\n",
       "    </tr>\n",
       "    <tr>\n",
       "      <th>3</th>\n",
       "      <td>1998-10-30 17:56:00</td>\n",
       "      <td>marc.r.cutler@bankamerica.com</td>\n",
       "    </tr>\n",
       "    <tr>\n",
       "      <th>4</th>\n",
       "      <td>1998-10-30 18:02:00</td>\n",
       "      <td>shari stack</td>\n",
       "    </tr>\n",
       "  </tbody>\n",
       "</table>\n",
       "</div>"
      ],
      "text/plain": [
       "             datetime                      recipient\n",
       "0 1998-05-27 17:31:00             toni p schulenburg\n",
       "1 1998-05-27 17:31:00                      mary hain\n",
       "2 1998-10-30 17:43:00  marc.r.cutler@bankamerica.com\n",
       "3 1998-10-30 17:56:00  marc.r.cutler@bankamerica.com\n",
       "4 1998-10-30 18:02:00                    shari stack"
      ]
     },
     "execution_count": 14,
     "metadata": {},
     "output_type": "execute_result"
    }
   ],
   "source": [
    "df_recipients = pd.DataFrame.from_dict(df_dict_)[column_names]\n",
    "df_recipients.head()"
   ]
  },
  {
   "cell_type": "markdown",
   "metadata": {},
   "source": [
    "### Create senders data frame"
   ]
  },
  {
   "cell_type": "code",
   "execution_count": 15,
   "metadata": {},
   "outputs": [
    {
     "data": {
      "text/html": [
       "<div>\n",
       "<style scoped>\n",
       "    .dataframe tbody tr th:only-of-type {\n",
       "        vertical-align: middle;\n",
       "    }\n",
       "\n",
       "    .dataframe tbody tr th {\n",
       "        vertical-align: top;\n",
       "    }\n",
       "\n",
       "    .dataframe thead th {\n",
       "        text-align: right;\n",
       "    }\n",
       "</style>\n",
       "<table border=\"1\" class=\"dataframe\">\n",
       "  <thead>\n",
       "    <tr style=\"text-align: right;\">\n",
       "      <th></th>\n",
       "      <th>datetime</th>\n",
       "      <th>sender</th>\n",
       "    </tr>\n",
       "  </thead>\n",
       "  <tbody>\n",
       "    <tr>\n",
       "      <th>0</th>\n",
       "      <td>1998-05-27 17:31:00</td>\n",
       "      <td>christopher behney</td>\n",
       "    </tr>\n",
       "    <tr>\n",
       "      <th>1</th>\n",
       "      <td>1998-10-30 17:43:00</td>\n",
       "      <td>mark legal taylor</td>\n",
       "    </tr>\n",
       "    <tr>\n",
       "      <th>2</th>\n",
       "      <td>1998-10-30 17:56:00</td>\n",
       "      <td>mark legal taylor</td>\n",
       "    </tr>\n",
       "    <tr>\n",
       "      <th>3</th>\n",
       "      <td>1998-10-30 18:02:00</td>\n",
       "      <td>mark legal taylor</td>\n",
       "    </tr>\n",
       "    <tr>\n",
       "      <th>4</th>\n",
       "      <td>1998-10-30 19:06:00</td>\n",
       "      <td>mark legal taylor</td>\n",
       "    </tr>\n",
       "  </tbody>\n",
       "</table>\n",
       "</div>"
      ],
      "text/plain": [
       "             datetime              sender\n",
       "0 1998-05-27 17:31:00  christopher behney\n",
       "1 1998-10-30 17:43:00   mark legal taylor\n",
       "2 1998-10-30 17:56:00   mark legal taylor\n",
       "3 1998-10-30 18:02:00   mark legal taylor\n",
       "4 1998-10-30 19:06:00   mark legal taylor"
      ]
     },
     "execution_count": 15,
     "metadata": {},
     "output_type": "execute_result"
    }
   ],
   "source": [
    "df_senders = df[[\"datetime\", \"sender\"]]\n",
    "df_senders.head()"
   ]
  },
  {
   "cell_type": "markdown",
   "metadata": {},
   "source": [
    "### Save recipients/senders data frames"
   ]
  },
  {
   "cell_type": "code",
   "execution_count": 16,
   "metadata": {},
   "outputs": [],
   "source": [
    "ffname = os.path.join(ROOT_DIR,\"enron\",\"data\", \"ext\", \n",
    "                      \"enron-recipients.csv\")\n",
    "df_recipients.to_csv(ffname, index=False)"
   ]
  },
  {
   "cell_type": "code",
   "execution_count": 17,
   "metadata": {},
   "outputs": [],
   "source": [
    "ffname = os.path.join(ROOT_DIR,\"enron\",\"data\", \"ext\", \n",
    "                      \"enron-senders.csv\")\n",
    "df_senders.to_csv(ffname, index=False)"
   ]
  }
 ],
 "metadata": {
  "kernelspec": {
   "display_name": "Python [default]",
   "language": "python",
   "name": "python3"
  },
  "language_info": {
   "codemirror_mode": {
    "name": "ipython",
    "version": 3
   },
   "file_extension": ".py",
   "mimetype": "text/x-python",
   "name": "python",
   "nbconvert_exporter": "python",
   "pygments_lexer": "ipython3",
   "version": "3.6.6"
  }
 },
 "nbformat": 4,
 "nbformat_minor": 2
}
